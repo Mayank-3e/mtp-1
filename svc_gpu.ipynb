{
  "cells": [
    {
      "cell_type": "markdown",
      "metadata": {
        "id": "g7xcE6c5_oVh"
      },
      "source": [
        "Install RAPIDS"
      ]
    },
    {
      "cell_type": "code",
      "execution_count": null,
      "metadata": {
        "id": "M4-I7kXwb7xB"
      },
      "outputs": [],
      "source": [
        "!nvidia-smi"
      ]
    },
    {
      "cell_type": "code",
      "execution_count": null,
      "metadata": {
        "id": "GLhCitx_ckNn"
      },
      "outputs": [],
      "source": [
        "# This get the RAPIDS-Colab install files and test check your GPU.  Run this and the next cell only.\n",
        "# Please read the output of this cell.  If your Colab Instance is not RAPIDS compatible, it will warn you and give you remediation steps.\n",
        "!git clone https://github.com/rapidsai/rapidsai-csp-utils.git\n",
        "!python rapidsai-csp-utils/colab/pip-install.py"
      ]
    },
    {
      "cell_type": "markdown",
      "metadata": {
        "id": "6l5oL9BrDVPy"
      },
      "source": [
        "Install required dependencies"
      ]
    },
    {
      "cell_type": "code",
      "execution_count": null,
      "metadata": {
        "id": "VwZotkeir_GI"
      },
      "outputs": [],
      "source": [
        "import numpy as np\n",
        "import pandas as pd\n",
        "import matplotlib.pyplot as plt\n",
        "from sklearn.metrics import accuracy_score\n",
        "from sklearn.compose import ColumnTransformer\n",
        "from sklearn.preprocessing import OneHotEncoder\n",
        "from sklearn.model_selection import StratifiedKFold,ParameterGrid\n",
        "from sklearn.preprocessing import StandardScaler\n",
        "import cudf as cd\n",
        "import cupy as cp\n",
        "from cuml.svm import SVC"
      ]
    },
    {
      "cell_type": "code",
      "execution_count": null,
      "metadata": {
        "id": "6mAHHhkEr_GK"
      },
      "outputs": [],
      "source": [
        "df=pd.read_csv('processed.csv')\n",
        "print('Data shape:',df.shape)"
      ]
    },
    {
      "cell_type": "code",
      "execution_count": null,
      "metadata": {
        "id": "s9YAuK8cr_GK"
      },
      "outputs": [],
      "source": [
        "list(enumerate(df.columns))"
      ]
    },
    {
      "cell_type": "markdown",
      "metadata": {
        "id": "FOSXr7acr_GL"
      },
      "source": [
        "1-hot encoding"
      ]
    },
    {
      "cell_type": "code",
      "execution_count": null,
      "metadata": {
        "id": "QLbjtEnvr_GM"
      },
      "outputs": [],
      "source": [
        "ct = ColumnTransformer(transformers=[('encoder', OneHotEncoder(), [2])], remainder='passthrough')\n",
        "X=ct.fit_transform(df)\n",
        "# remove dummy variable and output\n",
        "y=X[:,-1]\n",
        "X=X[:,1:-1]\n",
        "print(X.shape)\n",
        "print(y.shape)"
      ]
    },
    {
      "cell_type": "markdown",
      "metadata": {
        "id": "j1KxyKTMaJoO"
      },
      "source": [
        "Defining functions (set your classifier here)"
      ]
    },
    {
      "cell_type": "code",
      "execution_count": null,
      "metadata": {
        "id": "FdgtoRLEr_GM"
      },
      "outputs": [],
      "source": [
        "C_values=list(np.logspace(-3,3,7)) + [200]\n",
        "gamma_values=list(np.logspace(-3,3,7)) + ['scale','auto']\n",
        "param_grid=[\n",
        "    {\n",
        "        'kernel': ['rbf','sigmoid','linear'],\n",
        "        'C': C_values,\n",
        "        'gamma': gamma_values\n",
        "    },\n",
        "    { 'kernel': ['poly'], 'C': C_values, 'gamma': gamma_values, 'degree': [3,4,5] }\n",
        "]\n",
        "\n",
        "splits=list(StratifiedKFold(shuffle=True,random_state=0).split(X,y))\n",
        "train_index, test_index = splits[0]\n",
        "X_train, X_test = X[train_index], X[test_index]\n",
        "y_train, y_test = y[train_index], y[test_index]\n",
        "sc = StandardScaler()\n",
        "X_train = sc.fit_transform(X_train)\n",
        "X_test = sc.transform(X_test)\n",
        "\n",
        "def GridSearch(X,y,param_grid: dict,cv=5,random_state=0):\n",
        "    splits=list(StratifiedKFold(n_splits=cv,shuffle=True,random_state=random_state).split(X,y))\n",
        "    best_score=-1\n",
        "    best_params=None\n",
        "    for comb in ParameterGrid(param_grid):\n",
        "        # change ur classifier here\n",
        "        clf=SVC(random_state=random_state,max_iter=int(1e9), **comb)\n",
        "        acc_test=[]\n",
        "        for train_index, test_index in splits:\n",
        "            X_train, X_test = X[train_index], X[test_index]\n",
        "            y_train, y_test = y[train_index], y[test_index]\n",
        "            clf.fit(X_train,y_train)\n",
        "            acc_test.append(accuracy_score(y_test,clf.predict(X_test)))\n",
        "        if(np.mean(acc_test)>best_score):\n",
        "            best_score=np.mean(acc_test)\n",
        "            best_params=comb\n",
        "    return best_params,best_score\n",
        "\n",
        "def cv_scores(X,y,model):\n",
        "    acc_test=[]\n",
        "    acc_train=[]\n",
        "    for train_index, test_index in StratifiedKFold(shuffle=True,random_state=1).split(X,y):\n",
        "        X_train, X_test = X[train_index], X[test_index]\n",
        "        y_train, y_test = y[train_index], y[test_index]\n",
        "        sc = StandardScaler()\n",
        "        X_train = sc.fit_transform(X_train)\n",
        "        X_test = sc.transform(X_test)\n",
        "        model.fit(X_train,y_train)\n",
        "        acc_test.append(accuracy_score(y_test,model.predict(X_test)))\n",
        "        acc_train.append(accuracy_score(y_train,model.predict(X_train)))\n",
        "    print('Train acc:',np.mean(acc_train))\n",
        "    print('Test acc:',np.mean(acc_test))"
      ]
    },
    {
      "cell_type": "code",
      "execution_count": null,
      "metadata": {
        "id": "aVqNIXm4W7Rv"
      },
      "outputs": [],
      "source": [
        "best_params,best_score = GridSearch(X_train,y_train,param_grid)\n",
        "print(best_params)\n",
        "print(best_score)"
      ]
    }
  ],
  "metadata": {
    "accelerator": "GPU",
    "colab": {
      "gpuType": "T4",
      "provenance": []
    },
    "kernelspec": {
      "display_name": "Python 3",
      "name": "python3"
    },
    "language_info": {
      "codemirror_mode": {
        "name": "ipython",
        "version": 3
      },
      "file_extension": ".py",
      "mimetype": "text/x-python",
      "name": "python",
      "nbconvert_exporter": "python",
      "pygments_lexer": "ipython3",
      "version": "3.11.0"
    }
  },
  "nbformat": 4,
  "nbformat_minor": 0
}
