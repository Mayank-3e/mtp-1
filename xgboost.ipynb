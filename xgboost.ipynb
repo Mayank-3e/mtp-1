{
 "cells": [
  {
   "cell_type": "code",
   "execution_count": 1,
   "metadata": {},
   "outputs": [],
   "source": [
    "import numpy as np\n",
    "import pandas as pd\n",
    "from sklearn.metrics import accuracy_score,classification_report,roc_auc_score\n",
    "from sklearn.compose import ColumnTransformer\n",
    "from sklearn.preprocessing import OneHotEncoder\n",
    "from sklearn.model_selection import GridSearchCV,StratifiedKFold\n",
    "from sklearn.preprocessing import StandardScaler\n",
    "from xgboost import XGBClassifier"
   ]
  },
  {
   "cell_type": "code",
   "execution_count": 2,
   "metadata": {},
   "outputs": [
    {
     "name": "stdout",
     "output_type": "stream",
     "text": [
      "Data shape: (1069, 22)\n"
     ]
    }
   ],
   "source": [
    "df=pd.read_csv('processed.csv')\n",
    "print('Data shape:',df.shape)"
   ]
  },
  {
   "cell_type": "code",
   "execution_count": 3,
   "metadata": {},
   "outputs": [
    {
     "data": {
      "text/plain": [
       "[(0, 'w/b'),\n",
       " (1, 'Water'),\n",
       " (2, 'Cement type'),\n",
       " (3, 'Cement'),\n",
       " (4, 'Slag'),\n",
       " (5, 'Fly ash'),\n",
       " (6, 'Silica fume'),\n",
       " (7, 'Lime filler'),\n",
       " (8, 'FA'),\n",
       " (9, 'CA'),\n",
       " (10, 'Plasticizer'),\n",
       " (11, 'Superplasticizer'),\n",
       " (12, 'Air entraining'),\n",
       " (13, 'Comp. str. test age'),\n",
       " (14, 'Compressive strength'),\n",
       " (15, 'Air content'),\n",
       " (16, 'Spreed'),\n",
       " (17, 'Slump'),\n",
       " (18, 'Fresh density'),\n",
       " (19, 'Dry  density'),\n",
       " (20, 'Migration test age'),\n",
       " (21, 'Migration resistance')]"
      ]
     },
     "execution_count": 3,
     "metadata": {},
     "output_type": "execute_result"
    }
   ],
   "source": [
    "list(enumerate(df.columns))"
   ]
  },
  {
   "cell_type": "markdown",
   "metadata": {},
   "source": [
    "1-hot encoding"
   ]
  },
  {
   "cell_type": "code",
   "execution_count": 4,
   "metadata": {},
   "outputs": [
    {
     "name": "stdout",
     "output_type": "stream",
     "text": [
      "(1069, 30)\n",
      "(1069,)\n"
     ]
    }
   ],
   "source": [
    "ct = ColumnTransformer(transformers=[('encoder',OneHotEncoder(),[2])], remainder='passthrough')\n",
    "X=ct.fit_transform(df)\n",
    "# remove dummy variable and output\n",
    "y=X[:,-1]\n",
    "X=X[:,1:-1]\n",
    "print(X.shape)\n",
    "print(y.shape)"
   ]
  },
  {
   "cell_type": "markdown",
   "metadata": {},
   "source": [
    "XGB"
   ]
  },
  {
   "cell_type": "code",
   "execution_count": 5,
   "metadata": {},
   "outputs": [],
   "source": [
    "param_grid={\n",
    "    'n_estimators': [None,10,50,200,300],   #default=100\n",
    "    'max_depth': [None,2,6,10,20],\n",
    "    'max_leaves': [None,10,20],\n",
    "    'learning_rate': [None,.5,1],\n",
    "    'subsample': [None,.5,.8],\n",
    "    # 'reg_lambda': [None,.1,1,10,100],\n",
    "    # 'reg_alpha': [None,.01,.1,1],\n",
    "    # 'colsample_bytree': [None,.2,.5,.8],\n",
    "    'gamma': [None,.1,.5,1],\n",
    "    # 'min_child_weight': [None,.1,.5,2,4]    #default=1\n",
    "}\n",
    "\n",
    "splits=list(StratifiedKFold(shuffle=True,random_state=0).split(X,y))\n",
    "train_index, test_index = splits[0]\n",
    "X_train, X_test = X[train_index], X[test_index]\n",
    "y_train, y_test = y[train_index], y[test_index]\n",
    "sc = StandardScaler()\n",
    "X_train = sc.fit_transform(X_train)\n",
    "X_test = sc.transform(X_test)\n",
    "\n",
    "def train_xgb(X_train,y_train):\n",
    "    clf = XGBClassifier(random_state=0,n_jobs=-1)\n",
    "    grid=GridSearchCV(clf,param_grid,cv=5,n_jobs=3,scoring='accuracy')\n",
    "    grid.fit(X_train, y_train)\n",
    "    print(grid.best_params_)\n",
    "    print(grid.best_score_)\n",
    "    return grid"
   ]
  },
  {
   "cell_type": "code",
   "execution_count": 18,
   "metadata": {},
   "outputs": [
    {
     "name": "stdout",
     "output_type": "stream",
     "text": [
      "{'gamma': None, 'learning_rate': None, 'max_depth': 10, 'max_leaves': 10, 'n_estimators': None, 'subsample': 0.8}\n",
      "0.8175438596491228\n"
     ]
    }
   ],
   "source": [
    "grid=train_xgb(X_train,y_train)"
   ]
  },
  {
   "cell_type": "code",
   "execution_count": 6,
   "metadata": {},
   "outputs": [
    {
     "name": "stdout",
     "output_type": "stream",
     "text": [
      "              precision    recall  f1-score   support\n",
      "\n",
      "         0.0       0.91      0.98      0.94        43\n",
      "         1.0       0.88      0.86      0.87        42\n",
      "         2.0       0.73      0.70      0.71        43\n",
      "         3.0       0.78      0.81      0.80        43\n",
      "         4.0       0.98      0.93      0.95        43\n",
      "\n",
      "    accuracy                           0.86       214\n",
      "   macro avg       0.86      0.86      0.85       214\n",
      "weighted avg       0.86      0.86      0.85       214\n",
      "\n"
     ]
    },
    {
     "data": {
      "text/plain": [
       "0.9743651765071594"
      ]
     },
     "execution_count": 6,
     "metadata": {},
     "output_type": "execute_result"
    }
   ],
   "source": [
    "best_params={'gamma': None, 'learning_rate': None, 'max_depth': 10, 'max_leaves': 10, 'n_estimators': None, 'subsample': 0.8}\n",
    "best_model=XGBClassifier(random_state=0,n_jobs=-1,**best_params)\n",
    "best_model.fit(X_train,y_train)\n",
    "print(classification_report(y_test,best_model.predict(X_test)))\n",
    "roc_auc_score(y_test,best_model.predict_proba(X_test),multi_class='ovr')"
   ]
  },
  {
   "cell_type": "markdown",
   "metadata": {},
   "source": [
    "Removing cement type"
   ]
  },
  {
   "cell_type": "code",
   "execution_count": 7,
   "metadata": {},
   "outputs": [
    {
     "name": "stdout",
     "output_type": "stream",
     "text": [
      "(1069, 20)\n",
      "(1069,)\n"
     ]
    }
   ],
   "source": [
    "X=df.drop('Cement type',axis=1).iloc[:,:-1].values\n",
    "y=df.iloc[:,-1].values\n",
    "print(X.shape)\n",
    "print(y.shape)"
   ]
  },
  {
   "cell_type": "code",
   "execution_count": 8,
   "metadata": {},
   "outputs": [],
   "source": [
    "X_train, X_test = X[train_index], X[test_index]\n",
    "y_train, y_test = y[train_index], y[test_index]\n",
    "sc = StandardScaler()\n",
    "X_train = sc.fit_transform(X_train)\n",
    "X_test = sc.transform(X_test)"
   ]
  },
  {
   "cell_type": "code",
   "execution_count": null,
   "metadata": {},
   "outputs": [
    {
     "name": "stdout",
     "output_type": "stream",
     "text": [
      "{'gamma': 0.1, 'learning_rate': None, 'max_depth': None, 'max_leaves': 20, 'n_estimators': 200, 'subsample': 0.5}\n",
      "0.8163742690058481\n"
     ]
    }
   ],
   "source": [
    "grid=train_xgb(X_train,y_train)"
   ]
  },
  {
   "cell_type": "code",
   "execution_count": 9,
   "metadata": {},
   "outputs": [
    {
     "name": "stdout",
     "output_type": "stream",
     "text": [
      "              precision    recall  f1-score   support\n",
      "\n",
      "           0       0.91      0.98      0.94        43\n",
      "           1       0.88      0.88      0.88        42\n",
      "           2       0.72      0.72      0.72        43\n",
      "           3       0.83      0.79      0.81        43\n",
      "           4       0.98      0.95      0.96        43\n",
      "\n",
      "    accuracy                           0.86       214\n",
      "   macro avg       0.86      0.86      0.86       214\n",
      "weighted avg       0.86      0.86      0.86       214\n",
      "\n"
     ]
    },
    {
     "data": {
      "text/plain": [
       "0.9749436575935965"
      ]
     },
     "execution_count": 9,
     "metadata": {},
     "output_type": "execute_result"
    }
   ],
   "source": [
    "best_params={'gamma': 0.1, 'learning_rate': None, 'max_depth': None, 'max_leaves': 20, 'n_estimators': 200, 'subsample': 0.5}\n",
    "best_model=XGBClassifier(random_state=0,n_jobs=-1,**best_params)\n",
    "best_model.fit(X_train,y_train)\n",
    "print(classification_report(y_test,best_model.predict(X_test)))\n",
    "roc_auc_score(y_test,best_model.predict_proba(X_test),multi_class='ovr')"
   ]
  }
 ],
 "metadata": {
  "kernelspec": {
   "display_name": ".venv",
   "language": "python",
   "name": "python3"
  },
  "language_info": {
   "codemirror_mode": {
    "name": "ipython",
    "version": 3
   },
   "file_extension": ".py",
   "mimetype": "text/x-python",
   "name": "python",
   "nbconvert_exporter": "python",
   "pygments_lexer": "ipython3",
   "version": "3.11.0"
  },
  "orig_nbformat": 4
 },
 "nbformat": 4,
 "nbformat_minor": 2
}
