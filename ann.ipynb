{
 "cells": [
  {
   "cell_type": "code",
   "execution_count": 50,
   "metadata": {},
   "outputs": [],
   "source": [
    "import numpy as np\n",
    "import pandas as pd\n",
    "import matplotlib.pyplot as plt\n",
    "from sklearn.metrics import accuracy_score\n",
    "from sklearn.compose import ColumnTransformer\n",
    "from sklearn.preprocessing import OneHotEncoder\n",
    "from sklearn.model_selection import GridSearchCV,StratifiedKFold\n",
    "from sklearn.preprocessing import StandardScaler\n",
    "from tensorflow import keras\n",
    "from scikeras.wrappers import KerasClassifier"
   ]
  },
  {
   "cell_type": "code",
   "execution_count": 51,
   "metadata": {},
   "outputs": [
    {
     "name": "stdout",
     "output_type": "stream",
     "text": [
      "Data shape: (1069, 22)\n"
     ]
    }
   ],
   "source": [
    "df=pd.read_csv('processed.csv')\n",
    "print('Data shape:',df.shape)"
   ]
  },
  {
   "cell_type": "code",
   "execution_count": 52,
   "metadata": {},
   "outputs": [
    {
     "data": {
      "text/plain": [
       "[(0, 'w/b'),\n",
       " (1, 'Water'),\n",
       " (2, 'Cement type'),\n",
       " (3, 'Cement'),\n",
       " (4, 'Slag'),\n",
       " (5, 'Fly ash'),\n",
       " (6, 'Silica fume'),\n",
       " (7, 'Lime filler'),\n",
       " (8, 'FA'),\n",
       " (9, 'CA'),\n",
       " (10, 'Plasticizer'),\n",
       " (11, 'Superplasticizer'),\n",
       " (12, 'Air entraining'),\n",
       " (13, 'Comp. str. test age'),\n",
       " (14, 'Compressive strength'),\n",
       " (15, 'Air content'),\n",
       " (16, 'Spreed'),\n",
       " (17, 'Slump'),\n",
       " (18, 'Fresh density'),\n",
       " (19, 'Dry  density'),\n",
       " (20, 'Migration test age'),\n",
       " (21, 'Migration resistance')]"
      ]
     },
     "execution_count": 52,
     "metadata": {},
     "output_type": "execute_result"
    }
   ],
   "source": [
    "list(enumerate(df.columns))"
   ]
  },
  {
   "cell_type": "markdown",
   "metadata": {},
   "source": [
    "1-hot encoding"
   ]
  },
  {
   "cell_type": "code",
   "execution_count": 53,
   "metadata": {},
   "outputs": [
    {
     "name": "stdout",
     "output_type": "stream",
     "text": [
      "(1069, 30)\n",
      "(1069,)\n"
     ]
    }
   ],
   "source": [
    "ct = ColumnTransformer(transformers=[('encoder', OneHotEncoder(), [2])], remainder='passthrough')\n",
    "X=ct.fit_transform(df)\n",
    "# remove dummy variable and output\n",
    "y=X[:,-1]\n",
    "X=X[:,1:-1]\n",
    "print(X.shape)\n",
    "print(y.shape)"
   ]
  },
  {
   "cell_type": "markdown",
   "metadata": {},
   "source": [
    "ANN"
   ]
  },
  {
   "cell_type": "code",
   "execution_count": 54,
   "metadata": {},
   "outputs": [],
   "source": [
    "def get_ann(optimizer='rmsprop', init='glorot_uniform'):\n",
    "    ann=keras.models.Sequential()\n",
    "    ann.add(keras.layers.Dense(60,activation='relu',kernel_initializer=init,\n",
    "                            input_shape=(X.shape[1],)))\n",
    "    ann.add(keras.layers.Dense(32,activation='relu'))\n",
    "    ann.add(keras.layers.Dense(32,activation='relu'))\n",
    "    ann.add(keras.layers.Dense(5,activation='softmax'))\n",
    "    ann.compile(optimizer, loss='sparse_categorical_crossentropy', metrics=['accuracy'])\n",
    "    return ann"
   ]
  },
  {
   "cell_type": "markdown",
   "metadata": {},
   "source": [
    "Grid Search"
   ]
  },
  {
   "cell_type": "code",
   "execution_count": 55,
   "metadata": {},
   "outputs": [
    {
     "name": "stderr",
     "output_type": "stream",
     "text": [
      "d:\\College files\\9th sem\\mtp\\code\\.venv\\Lib\\site-packages\\joblib\\externals\\loky\\process_executor.py:752: UserWarning: A worker stopped while some jobs were given to the executor. This can be caused by a too short worker timeout or by a memory leak.\n",
      "  warnings.warn(\n"
     ]
    },
    {
     "name": "stdout",
     "output_type": "stream",
     "text": [
      "{'batch_size': 16, 'epochs': 400, 'model__init': 'glorot_uniform', 'optimizer': 'rmsprop'}\n",
      "0.8280701754385964\n"
     ]
    }
   ],
   "source": [
    "param_grid={\n",
    "    'optimizer': ['rmsprop', 'adam'],\n",
    "    'model__init': ['glorot_uniform', 'normal', 'uniform'],\n",
    "    'epochs': [200,400],\n",
    "    'batch_size': [16,32,64]\n",
    "}\n",
    "\n",
    "splits = list(StratifiedKFold(shuffle=True,random_state=0).split(X,y))\n",
    "train_index, test_index = splits[0]\n",
    "X_train, X_test = X[train_index], X[test_index]\n",
    "y_train, y_test = y[train_index], y[test_index]\n",
    "sc = StandardScaler()\n",
    "X_train = sc.fit_transform(X_train)\n",
    "X_test = sc.transform(X_test)\n",
    "\n",
    "grid=GridSearchCV(KerasClassifier(get_ann,verbose=0,random_state=0),\n",
    "                param_grid,cv=5,n_jobs=2,scoring='accuracy')\n",
    "grid.fit(X_train, y_train)\n",
    "print(grid.best_params_)\n",
    "print(grid.best_score_)"
   ]
  },
  {
   "cell_type": "code",
   "execution_count": 56,
   "metadata": {},
   "outputs": [
    {
     "name": "stdout",
     "output_type": "stream",
     "text": [
      "Train acc: 0.997427447122479\n",
      "Test acc: 0.885889166776359\n"
     ]
    }
   ],
   "source": [
    "best_model=KerasClassifier(get_ann,verbose=0,random_state=0,\n",
    "                           batch_size=grid.best_params_['batch_size'],\n",
    "                           epochs=grid.best_params_['epochs'],\n",
    "                           model__init=grid.best_params_['model__init'],\n",
    "                           optimizer=grid.best_params_['optimizer'])\n",
    "acc_test=[]\n",
    "acc_train=[]\n",
    "for train_index, test_index in splits:\n",
    "    X_train, X_test = X[train_index], X[test_index]\n",
    "    y_train, y_test = y[train_index], y[test_index]\n",
    "    sc = StandardScaler()\n",
    "    X_train = sc.fit_transform(X_train)\n",
    "    X_test = sc.transform(X_test)\n",
    "    best_model.fit(X_train,y_train)\n",
    "    acc_test.append(accuracy_score(y_test,best_model.predict(X_test)))\n",
    "    acc_train.append(accuracy_score(y_train,best_model.predict(X_train)))\n",
    "print('Train acc:',np.mean(acc_train))\n",
    "print('Test acc:',np.mean(acc_test))"
   ]
  },
  {
   "cell_type": "markdown",
   "metadata": {},
   "source": [
    "Removing cement type"
   ]
  },
  {
   "cell_type": "code",
   "execution_count": 57,
   "metadata": {},
   "outputs": [
    {
     "name": "stdout",
     "output_type": "stream",
     "text": [
      "(1069, 20)\n",
      "(1069,)\n"
     ]
    }
   ],
   "source": [
    "X=df.drop('Cement type',axis=1).iloc[:,:-1].values\n",
    "y=df.iloc[:,-1].values\n",
    "print(X.shape)\n",
    "print(y.shape)"
   ]
  },
  {
   "cell_type": "code",
   "execution_count": 58,
   "metadata": {},
   "outputs": [
    {
     "name": "stderr",
     "output_type": "stream",
     "text": [
      "d:\\College files\\9th sem\\mtp\\code\\.venv\\Lib\\site-packages\\joblib\\externals\\loky\\process_executor.py:752: UserWarning: A worker stopped while some jobs were given to the executor. This can be caused by a too short worker timeout or by a memory leak.\n",
      "  warnings.warn(\n"
     ]
    },
    {
     "name": "stdout",
     "output_type": "stream",
     "text": [
      "{'batch_size': 32, 'epochs': 400, 'model__init': 'uniform', 'optimizer': 'rmsprop'}\n",
      "0.8467836257309942\n"
     ]
    }
   ],
   "source": [
    "splits = list(StratifiedKFold(shuffle=True,random_state=0).split(X,y))\n",
    "train_index, test_index = splits[0]\n",
    "X_train, X_test = X[train_index], X[test_index]\n",
    "y_train, y_test = y[train_index], y[test_index]\n",
    "sc = StandardScaler()\n",
    "X_train = sc.fit_transform(X_train)\n",
    "X_test = sc.transform(X_test)\n",
    "grid=GridSearchCV(KerasClassifier(get_ann,verbose=0,random_state=0),\n",
    "                param_grid,cv=5,n_jobs=2,scoring='accuracy')\n",
    "grid.fit(X_train, y_train)\n",
    "print(grid.best_params_)\n",
    "print(grid.best_score_)"
   ]
  },
  {
   "cell_type": "code",
   "execution_count": 59,
   "metadata": {},
   "outputs": [
    {
     "name": "stdout",
     "output_type": "stream",
     "text": [
      "Train acc: 0.9929832759468766\n",
      "Test acc: 0.8989688912289939\n"
     ]
    }
   ],
   "source": [
    "best_model=KerasClassifier(get_ann,verbose=0,random_state=0,\n",
    "                           batch_size=grid.best_params_['batch_size'],\n",
    "                           epochs=grid.best_params_['epochs'],\n",
    "                           model__init=grid.best_params_['model__init'],\n",
    "                           optimizer=grid.best_params_['optimizer'])\n",
    "acc_test=[]\n",
    "acc_train=[]\n",
    "for train_index, test_index in splits:\n",
    "    X_train, X_test = X[train_index], X[test_index]\n",
    "    y_train, y_test = y[train_index], y[test_index]\n",
    "    sc = StandardScaler()\n",
    "    X_train = sc.fit_transform(X_train)\n",
    "    X_test = sc.transform(X_test)\n",
    "    best_model.fit(X_train,y_train)\n",
    "    acc_test.append(accuracy_score(y_test,best_model.predict(X_test)))\n",
    "    acc_train.append(accuracy_score(y_train,best_model.predict(X_train)))\n",
    "print('Train acc:',np.mean(acc_train))\n",
    "print('Test acc:',np.mean(acc_test))"
   ]
  }
 ],
 "metadata": {
  "kernelspec": {
   "display_name": ".venv",
   "language": "python",
   "name": "python3"
  },
  "language_info": {
   "codemirror_mode": {
    "name": "ipython",
    "version": 3
   },
   "file_extension": ".py",
   "mimetype": "text/x-python",
   "name": "python",
   "nbconvert_exporter": "python",
   "pygments_lexer": "ipython3",
   "version": "3.11.0"
  },
  "orig_nbformat": 4
 },
 "nbformat": 4,
 "nbformat_minor": 2
}
