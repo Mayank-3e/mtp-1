{
 "cells": [
  {
   "cell_type": "code",
   "execution_count": 55,
   "metadata": {},
   "outputs": [],
   "source": [
    "import numpy as np\n",
    "import pandas as pd\n",
    "from sklearn.impute import SimpleImputer,KNNImputer\n",
    "from sklearn.preprocessing import LabelEncoder,StandardScaler\n",
    "from sklearn.ensemble import RandomForestClassifier\n",
    "from sklearn.model_selection import train_test_split\n",
    "from sklearn.metrics import accuracy_score\n",
    "from imblearn.over_sampling import SMOTENC"
   ]
  },
  {
   "cell_type": "markdown",
   "metadata": {},
   "source": [
    "Read data"
   ]
  },
  {
   "cell_type": "code",
   "execution_count": 56,
   "metadata": {},
   "outputs": [
    {
     "name": "stdout",
     "output_type": "stream",
     "text": [
      "Original data shape: (843, 24)\n",
      "Duplicate rows: 0\n"
     ]
    }
   ],
   "source": [
    "df=pd.read_excel('data.xlsx',sheet_name=1)\n",
    "print('Original data shape:',df.shape)\n",
    "df.rename(columns={'Total aggregate':'TA','Coarse aggregate':'CA','Fine aggregate':'FA'},\n",
    "          inplace=True)\n",
    "print('Duplicate rows:',df.duplicated().sum())"
   ]
  },
  {
   "cell_type": "markdown",
   "metadata": {},
   "source": [
    "Missing values"
   ]
  },
  {
   "cell_type": "code",
   "execution_count": 57,
   "metadata": {},
   "outputs": [
    {
     "data": {
      "text/plain": [
       "w/b                       0\n",
       "Water                     0\n",
       "Cement type              11\n",
       "Cement                    0\n",
       "Slag                      0\n",
       "Fly ash                   0\n",
       "Silica fume               0\n",
       "Lime filler               0\n",
       "FA                      275\n",
       "CA                      276\n",
       "TA                      112\n",
       "Plasticizer             152\n",
       "Superplasticizer        338\n",
       "Air entraining          263\n",
       "Comp. str. test age     302\n",
       "Compressive strength    304\n",
       "Air content             525\n",
       "Spreed                  565\n",
       "Slump                   499\n",
       "Fresh density           447\n",
       "Dry  density            679\n",
       "Migration test age        0\n",
       "Dnssm                    35\n",
       "Migration resistance     35\n",
       "dtype: int64"
      ]
     },
     "execution_count": 57,
     "metadata": {},
     "output_type": "execute_result"
    }
   ],
   "source": [
    "len(df)-df.count()"
   ]
  },
  {
   "cell_type": "code",
   "execution_count": 58,
   "metadata": {},
   "outputs": [
    {
     "data": {
      "text/plain": [
       "[(0, 'w/b'),\n",
       " (1, 'Water'),\n",
       " (2, 'Cement type'),\n",
       " (3, 'Cement'),\n",
       " (4, 'Slag'),\n",
       " (5, 'Fly ash'),\n",
       " (6, 'Silica fume'),\n",
       " (7, 'Lime filler'),\n",
       " (8, 'FA'),\n",
       " (9, 'CA'),\n",
       " (10, 'TA'),\n",
       " (11, 'Plasticizer'),\n",
       " (12, 'Superplasticizer'),\n",
       " (13, 'Air entraining'),\n",
       " (14, 'Comp. str. test age'),\n",
       " (15, 'Compressive strength'),\n",
       " (16, 'Air content'),\n",
       " (17, 'Spreed'),\n",
       " (18, 'Slump'),\n",
       " (19, 'Fresh density'),\n",
       " (20, 'Dry  density'),\n",
       " (21, 'Migration test age'),\n",
       " (22, 'Dnssm'),\n",
       " (23, 'Migration resistance')]"
      ]
     },
     "execution_count": 58,
     "metadata": {},
     "output_type": "execute_result"
    }
   ],
   "source": [
    "list(enumerate(df.columns))"
   ]
  },
  {
   "cell_type": "markdown",
   "metadata": {},
   "source": [
    "Preprocessing"
   ]
  },
  {
   "cell_type": "code",
   "execution_count": 59,
   "metadata": {},
   "outputs": [
    {
     "name": "stdout",
     "output_type": "stream",
     "text": [
      "After removing missing data: (551, 24)\n",
      "Missing values:\n",
      "[('Cement type', 6)]\n",
      "Final shape: (551, 23)\n"
     ]
    }
   ],
   "source": [
    "# fill cols with mean\n",
    "df.iloc[:,11:21]=SimpleImputer(missing_values=np.nan).fit_transform(df.iloc[:,11:21])\n",
    "df=df.dropna(subset=['FA','CA','TA','Dnssm'])\n",
    "print('After removing missing data:',df.shape)\n",
    "print('Missing values:')\n",
    "print([(col,len(df)-df[col].count()) for col in df.columns if len(df)>df[col].count()])\n",
    "\n",
    "# encode target feature\n",
    "df['Migration resistance']=df['Migration resistance'].map({'Low':0,'Moderate':1,'High':2,'Very high':3,'Extremely high':4})\n",
    "df=df.drop('TA',axis=1)\n",
    "\n",
    "print('Final shape:',df.shape)"
   ]
  },
  {
   "cell_type": "markdown",
   "metadata": {},
   "source": [
    "Impute cement type"
   ]
  },
  {
   "cell_type": "code",
   "execution_count": 60,
   "metadata": {},
   "outputs": [
    {
     "name": "stdout",
     "output_type": "stream",
     "text": [
      "Migration resistance\n",
      "2    232\n",
      "0     93\n",
      "1     91\n",
      "3     84\n",
      "4     51\n",
      "Name: count, dtype: int64\n"
     ]
    }
   ],
   "source": [
    "# label encode cement types\n",
    "X_le=LabelEncoder()\n",
    "df2=pd.Series(X_le.fit_transform(df.iloc[:,2]))\n",
    "df.iloc[:,2]=df2.replace(to_replace=X_le.transform([np.nan]), value=np.nan)\n",
    "# impute cement types\n",
    "df.iloc[:,2]=KNNImputer(n_neighbors=1).fit_transform(df)[:,2]\n",
    "print(df['Migration resistance'].value_counts())"
   ]
  },
  {
   "cell_type": "markdown",
   "metadata": {},
   "source": [
    "Discrete Features"
   ]
  },
  {
   "cell_type": "code",
   "execution_count": 61,
   "metadata": {},
   "outputs": [
    {
     "data": {
      "text/plain": [
       "['Cement type',\n",
       " 'Lime filler',\n",
       " 'Plasticizer',\n",
       " 'Air entraining',\n",
       " 'Comp. str. test age',\n",
       " 'Migration test age',\n",
       " 'Migration resistance']"
      ]
     },
     "execution_count": 61,
     "metadata": {},
     "output_type": "execute_result"
    }
   ],
   "source": [
    "discrete_cols=[col for col in df.columns if df[col].unique().size<15]\n",
    "discrete_cols"
   ]
  },
  {
   "cell_type": "markdown",
   "metadata": {},
   "source": [
    "Drop target vector (Dnssm)"
   ]
  },
  {
   "cell_type": "code",
   "execution_count": 62,
   "metadata": {},
   "outputs": [],
   "source": [
    "df=df.drop('Dnssm',axis=1)\n",
    "continuous_cols=[col for col in df.columns if col not in discrete_cols]"
   ]
  },
  {
   "cell_type": "markdown",
   "metadata": {},
   "source": [
    "Apply SMOTE"
   ]
  },
  {
   "cell_type": "code",
   "execution_count": 63,
   "metadata": {},
   "outputs": [
    {
     "name": "stdout",
     "output_type": "stream",
     "text": [
      "(1159, 22)\n"
     ]
    },
    {
     "data": {
      "text/plain": [
       "Migration resistance\n",
       "3    232\n",
       "2    232\n",
       "1    232\n",
       "0    232\n",
       "4    231\n",
       "Name: count, dtype: int64"
      ]
     },
     "execution_count": 63,
     "metadata": {},
     "output_type": "execute_result"
    }
   ],
   "source": [
    "X,y=SMOTENC(categorical_features=['Cement type'],random_state=0).fit_resample(df.iloc[:,:-1],df.iloc[:,-1])\n",
    "df=X\n",
    "df['Migration resistance']=y\n",
    "df=df[~df.duplicated()]\n",
    "print(df.shape)\n",
    "# categorical count\n",
    "df['Migration resistance'].value_counts()"
   ]
  },
  {
   "cell_type": "markdown",
   "metadata": {},
   "source": [
    "Category encoding"
   ]
  },
  {
   "cell_type": "code",
   "execution_count": 64,
   "metadata": {},
   "outputs": [],
   "source": [
    "df_encoded=pd.get_dummies(df,drop_first=True,dtype=int)"
   ]
  },
  {
   "cell_type": "markdown",
   "metadata": {},
   "source": [
    "Model training using RF embedded approach to get feature importances"
   ]
  },
  {
   "cell_type": "code",
   "execution_count": 65,
   "metadata": {},
   "outputs": [
    {
     "name": "stdout",
     "output_type": "stream",
     "text": [
      "0.8706896551724138\n"
     ]
    },
    {
     "data": {
      "text/plain": [
       "w/b                     0.098371\n",
       "Migration test age      0.096882\n",
       "Cement                  0.081170\n",
       "Water                   0.070776\n",
       "Superplasticizer        0.070382\n",
       "Slump                   0.070160\n",
       "CA                      0.069363\n",
       "FA                      0.067478\n",
       "Compressive strength    0.064707\n",
       "Silica fume             0.045835\n",
       "Fly ash                 0.040657\n",
       "Slag                    0.037032\n",
       "Air content             0.036888\n",
       "Fresh density           0.034402\n",
       "Dry  density            0.027327\n",
       "Comp. str. test age     0.026241\n",
       "Spreed                  0.017074\n",
       "Air entraining          0.009187\n",
       "Cement type_8.0         0.008463\n",
       "Cement type_7.0         0.005167\n",
       "Lime filler             0.004535\n",
       "Plasticizer             0.004527\n",
       "Cement type_1.0         0.003453\n",
       "Cement type_6.0         0.003220\n",
       "Cement type_3.0         0.002172\n",
       "Cement type_10.0        0.001701\n",
       "Cement type_9.0         0.001573\n",
       "Cement type_4.0         0.000823\n",
       "Cement type_5.0         0.000312\n",
       "Cement type_2.0         0.000122\n",
       "dtype: float64"
      ]
     },
     "execution_count": 65,
     "metadata": {},
     "output_type": "execute_result"
    }
   ],
   "source": [
    "X=df_encoded.drop('Migration resistance',axis=1)\n",
    "y=df['Migration resistance']\n",
    "sc=StandardScaler()\n",
    "X_train, X_test, y_train, y_test=train_test_split(X, y, test_size=0.2, random_state=0)\n",
    "X_train=sc.fit_transform(X_train)\n",
    "X_test=sc.transform(X_test)\n",
    "rfc=RandomForestClassifier(100,random_state=0)\n",
    "rfc.fit(X_train,y_train)\n",
    "y_pred = rfc.predict(X_test)\n",
    "print(accuracy_score(y_test,y_pred))\n",
    "pd.Series(rfc.feature_importances_,index=X.columns).sort_values(ascending=False)"
   ]
  },
  {
   "cell_type": "markdown",
   "metadata": {},
   "source": [
    "Feature importance by removing cement type"
   ]
  },
  {
   "cell_type": "code",
   "execution_count": 67,
   "metadata": {},
   "outputs": [
    {
     "name": "stdout",
     "output_type": "stream",
     "text": [
      "0.8706896551724138\n"
     ]
    },
    {
     "data": {
      "text/plain": [
       "w/b                     0.107135\n",
       "Migration test age      0.101919\n",
       "Cement                  0.085830\n",
       "FA                      0.073865\n",
       "Water                   0.071294\n",
       "Superplasticizer        0.070927\n",
       "Compressive strength    0.069711\n",
       "CA                      0.069042\n",
       "Slump                   0.058615\n",
       "Silica fume             0.045170\n",
       "Fly ash                 0.042661\n",
       "Slag                    0.040662\n",
       "Air content             0.038947\n",
       "Fresh density           0.036266\n",
       "Dry  density            0.028725\n",
       "Comp. str. test age     0.025040\n",
       "Spreed                  0.014569\n",
       "Air entraining          0.010710\n",
       "Lime filler             0.004687\n",
       "Plasticizer             0.004226\n",
       "dtype: float64"
      ]
     },
     "execution_count": 67,
     "metadata": {},
     "output_type": "execute_result"
    }
   ],
   "source": [
    "X=df.drop(['Migration resistance','Cement type'],axis=1)\n",
    "y=df['Migration resistance']\n",
    "sc=StandardScaler()\n",
    "X_train, X_test, y_train, y_test=train_test_split(X, y, test_size=0.2, random_state=0)\n",
    "X_train=sc.fit_transform(X_train)\n",
    "X_test=sc.transform(X_test)\n",
    "rfc=RandomForestClassifier(100,random_state=0)\n",
    "rfc.fit(X_train,y_train)\n",
    "y_pred = rfc.predict(X_test)\n",
    "print(accuracy_score(y_test,y_pred))\n",
    "pd.Series(rfc.feature_importances_,index=X.columns).sort_values(ascending=False)"
   ]
  },
  {
   "cell_type": "markdown",
   "metadata": {},
   "source": [
    "Save processed data"
   ]
  },
  {
   "cell_type": "code",
   "execution_count": null,
   "metadata": {},
   "outputs": [],
   "source": [
    "df.to_csv('processed_outliers.csv',index=False)"
   ]
  }
 ],
 "metadata": {
  "kernelspec": {
   "display_name": ".venv",
   "language": "python",
   "name": "python3"
  },
  "language_info": {
   "codemirror_mode": {
    "name": "ipython",
    "version": 3
   },
   "file_extension": ".py",
   "mimetype": "text/x-python",
   "name": "python",
   "nbconvert_exporter": "python",
   "pygments_lexer": "ipython3",
   "version": "3.11.0"
  },
  "orig_nbformat": 4
 },
 "nbformat": 4,
 "nbformat_minor": 2
}
