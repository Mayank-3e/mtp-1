{
 "cells": [
  {
   "cell_type": "code",
   "execution_count": 1,
   "metadata": {},
   "outputs": [],
   "source": [
    "import numpy as np\n",
    "import pandas as pd\n",
    "from sklearn.metrics import accuracy_score,classification_report,roc_auc_score\n",
    "from sklearn.compose import ColumnTransformer\n",
    "from sklearn.preprocessing import OneHotEncoder\n",
    "from sklearn.model_selection import StratifiedKFold,GridSearchCV\n",
    "from sklearn.preprocessing import StandardScaler\n",
    "from sklearn.svm import SVC"
   ]
  },
  {
   "cell_type": "code",
   "execution_count": 2,
   "metadata": {},
   "outputs": [
    {
     "name": "stdout",
     "output_type": "stream",
     "text": [
      "Data shape: (1159, 22)\n"
     ]
    }
   ],
   "source": [
    "df=pd.read_csv('processed_outliers.csv')\n",
    "print('Data shape:',df.shape)"
   ]
  },
  {
   "cell_type": "code",
   "execution_count": 3,
   "metadata": {},
   "outputs": [
    {
     "data": {
      "text/plain": [
       "[(0, 'w/b'),\n",
       " (1, 'Water'),\n",
       " (2, 'Cement type'),\n",
       " (3, 'Cement'),\n",
       " (4, 'Slag'),\n",
       " (5, 'Fly ash'),\n",
       " (6, 'Silica fume'),\n",
       " (7, 'Lime filler'),\n",
       " (8, 'FA'),\n",
       " (9, 'CA'),\n",
       " (10, 'Plasticizer'),\n",
       " (11, 'Superplasticizer'),\n",
       " (12, 'Air entraining'),\n",
       " (13, 'Comp. str. test age'),\n",
       " (14, 'Compressive strength'),\n",
       " (15, 'Air content'),\n",
       " (16, 'Spreed'),\n",
       " (17, 'Slump'),\n",
       " (18, 'Fresh density'),\n",
       " (19, 'Dry  density'),\n",
       " (20, 'Migration test age'),\n",
       " (21, 'Migration resistance')]"
      ]
     },
     "execution_count": 3,
     "metadata": {},
     "output_type": "execute_result"
    }
   ],
   "source": [
    "list(enumerate(df.columns))"
   ]
  },
  {
   "cell_type": "markdown",
   "metadata": {},
   "source": [
    "1-hot encoding"
   ]
  },
  {
   "cell_type": "code",
   "execution_count": 4,
   "metadata": {},
   "outputs": [
    {
     "name": "stdout",
     "output_type": "stream",
     "text": [
      "(1159, 30)\n",
      "(1159,)\n"
     ]
    }
   ],
   "source": [
    "ct = ColumnTransformer(transformers=[('encoder', OneHotEncoder(), [2])], remainder='passthrough')\n",
    "X=ct.fit_transform(df)\n",
    "# remove dummy variable and output\n",
    "y=X[:,-1]\n",
    "X=X[:,1:-1]\n",
    "print(X.shape)\n",
    "print(y.shape)"
   ]
  },
  {
   "cell_type": "markdown",
   "metadata": {},
   "source": [
    "SVM Classifier"
   ]
  },
  {
   "cell_type": "code",
   "execution_count": 5,
   "metadata": {},
   "outputs": [],
   "source": [
    "param_grid={\n",
    "    'kernel': ['rbf','sigmoid','linear','poly'],\n",
    "    'C': list(np.logspace(-3,3,7)) + [200],\n",
    "    'gamma': list(np.logspace(-3,3,7)) + ['scale','auto'],\n",
    "    'degree': [3,4,5]\n",
    "}\n",
    "\n",
    "splits=list(StratifiedKFold(shuffle=True,random_state=0).split(X,y))\n",
    "train_index, test_index = splits[0]\n",
    "X_train, X_test = X[train_index], X[test_index]\n",
    "y_train, y_test = y[train_index], y[test_index]\n",
    "sc = StandardScaler()\n",
    "X_train = sc.fit_transform(X_train)\n",
    "X_test = sc.transform(X_test)\n",
    "\n",
    "def train_svc(X_train,y_train):\n",
    "    clf = SVC(random_state=0,max_iter=int(1e9))\n",
    "    grid=GridSearchCV(clf,param_grid,cv=5,n_jobs=3,scoring='accuracy')\n",
    "    grid.fit(X_train, y_train)\n",
    "    print(grid.best_params_)\n",
    "    print(grid.best_score_)\n",
    "    return grid\n",
    "\n",
    "def cv_scores(X,y,model):\n",
    "    acc_test=[]\n",
    "    acc_train=[]\n",
    "    for train_index, test_index in StratifiedKFold(shuffle=True,random_state=1).split(X,y):\n",
    "        X_train, X_test = X[train_index], X[test_index]\n",
    "        y_train, y_test = y[train_index], y[test_index]\n",
    "        sc = StandardScaler()\n",
    "        X_train = sc.fit_transform(X_train)\n",
    "        X_test = sc.transform(X_test)\n",
    "        model.fit(X_train,y_train)\n",
    "        acc_test.append(accuracy_score(y_test,model.predict(X_test)))\n",
    "        acc_train.append(accuracy_score(y_train,model.predict(X_train)))\n",
    "    print('Train acc:',np.mean(acc_train))\n",
    "    print('Test acc:',np.mean(acc_test))"
   ]
  },
  {
   "cell_type": "code",
   "execution_count": 18,
   "metadata": {},
   "outputs": [
    {
     "name": "stdout",
     "output_type": "stream",
     "text": [
      "{'C': 100.0, 'degree': 3, 'gamma': 0.1, 'kernel': 'rbf'}\n",
      "0.7876663760534728\n"
     ]
    }
   ],
   "source": [
    "grid=train_svc(X_train,y_train)"
   ]
  },
  {
   "cell_type": "code",
   "execution_count": 6,
   "metadata": {},
   "outputs": [
    {
     "name": "stdout",
     "output_type": "stream",
     "text": [
      "              precision    recall  f1-score   support\n",
      "\n",
      "         0.0       0.91      0.85      0.88        46\n",
      "         1.0       0.91      0.87      0.89        47\n",
      "         2.0       0.79      0.83      0.81        46\n",
      "         3.0       0.88      0.89      0.88        47\n",
      "         4.0       0.96      1.00      0.98        46\n",
      "\n",
      "    accuracy                           0.89       232\n",
      "   macro avg       0.89      0.89      0.89       232\n",
      "weighted avg       0.89      0.89      0.89       232\n",
      "\n"
     ]
    },
    {
     "data": {
      "text/plain": [
       "0.9732256532143136"
      ]
     },
     "execution_count": 6,
     "metadata": {},
     "output_type": "execute_result"
    }
   ],
   "source": [
    "best_params={'C': 100.0, 'gamma': 0.1, 'kernel': 'rbf'}\n",
    "best_model=SVC(random_state=0,max_iter=int(1e9),**best_params,probability=True)\n",
    "best_model.fit(X_train,y_train)\n",
    "print(classification_report(y_test,best_model.predict(X_test)))\n",
    "roc_auc_score(y_test,best_model.predict_proba(X_test),multi_class='ovr')"
   ]
  },
  {
   "cell_type": "markdown",
   "metadata": {},
   "source": [
    "Removing cement type"
   ]
  },
  {
   "cell_type": "code",
   "execution_count": 6,
   "metadata": {},
   "outputs": [
    {
     "name": "stdout",
     "output_type": "stream",
     "text": [
      "(1159, 20)\n",
      "(1159,)\n"
     ]
    }
   ],
   "source": [
    "X=df.drop('Cement type',axis=1).iloc[:,:-1].values\n",
    "y=df.iloc[:,-1].values\n",
    "print(X.shape)\n",
    "print(y.shape)"
   ]
  },
  {
   "cell_type": "code",
   "execution_count": 7,
   "metadata": {},
   "outputs": [],
   "source": [
    "X_train, X_test = X[train_index], X[test_index]\n",
    "y_train, y_test = y[train_index], y[test_index]\n",
    "sc = StandardScaler()\n",
    "X_train = sc.fit_transform(X_train)\n",
    "X_test = sc.transform(X_test)"
   ]
  },
  {
   "cell_type": "code",
   "execution_count": null,
   "metadata": {},
   "outputs": [
    {
     "name": "stdout",
     "output_type": "stream",
     "text": [
      "{'C': 200, 'degree': 3, 'gamma': 0.1, 'kernel': 'rbf'}\n",
      "0.8275210694565533\n"
     ]
    }
   ],
   "source": [
    "grid=train_svc(X_train,y_train)"
   ]
  },
  {
   "cell_type": "code",
   "execution_count": 8,
   "metadata": {},
   "outputs": [
    {
     "name": "stdout",
     "output_type": "stream",
     "text": [
      "              precision    recall  f1-score   support\n",
      "\n",
      "           0       0.93      0.87      0.90        46\n",
      "           1       0.87      0.85      0.86        47\n",
      "           2       0.85      0.85      0.85        46\n",
      "           3       0.90      0.94      0.92        47\n",
      "           4       0.96      1.00      0.98        46\n",
      "\n",
      "    accuracy                           0.90       232\n",
      "   macro avg       0.90      0.90      0.90       232\n",
      "weighted avg       0.90      0.90      0.90       232\n",
      "\n"
     ]
    },
    {
     "data": {
      "text/plain": [
       "0.9745144568638346"
      ]
     },
     "execution_count": 8,
     "metadata": {},
     "output_type": "execute_result"
    }
   ],
   "source": [
    "best_params={'C': 200, 'gamma': 0.1, 'kernel': 'rbf'}\n",
    "best_model=SVC(random_state=0,max_iter=int(1e9),**best_params,probability=True)\n",
    "best_model.fit(X_train,y_train)\n",
    "print(classification_report(y_test,best_model.predict(X_test)))\n",
    "roc_auc_score(y_test,best_model.predict_proba(X_test),multi_class='ovr')"
   ]
  },
  {
   "cell_type": "code",
   "execution_count": 9,
   "metadata": {},
   "outputs": [
    {
     "data": {
      "text/plain": [
       "0.9008620689655172"
      ]
     },
     "execution_count": 9,
     "metadata": {},
     "output_type": "execute_result"
    }
   ],
   "source": [
    "accuracy_score(y_test,best_model.predict(X_test))"
   ]
  }
 ],
 "metadata": {
  "kernelspec": {
   "display_name": ".venv",
   "language": "python",
   "name": "python3"
  },
  "language_info": {
   "codemirror_mode": {
    "name": "ipython",
    "version": 3
   },
   "file_extension": ".py",
   "mimetype": "text/x-python",
   "name": "python",
   "nbconvert_exporter": "python",
   "pygments_lexer": "ipython3",
   "version": "3.11.0"
  },
  "orig_nbformat": 4
 },
 "nbformat": 4,
 "nbformat_minor": 2
}
