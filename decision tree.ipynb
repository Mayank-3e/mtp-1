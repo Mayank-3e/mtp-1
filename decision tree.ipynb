{
 "cells": [
  {
   "cell_type": "code",
   "execution_count": 18,
   "metadata": {},
   "outputs": [],
   "source": [
    "import numpy as np\n",
    "import pandas as pd\n",
    "from sklearn.metrics import accuracy_score\n",
    "from sklearn.compose import ColumnTransformer\n",
    "from sklearn.preprocessing import OneHotEncoder\n",
    "from sklearn.model_selection import StratifiedKFold,GridSearchCV\n",
    "from sklearn.preprocessing import StandardScaler\n",
    "from sklearn.tree import DecisionTreeClassifier"
   ]
  },
  {
   "cell_type": "code",
   "execution_count": 19,
   "metadata": {},
   "outputs": [
    {
     "name": "stdout",
     "output_type": "stream",
     "text": [
      "Data shape: (1069, 22)\n"
     ]
    }
   ],
   "source": [
    "df=pd.read_csv('processed.csv')\n",
    "print('Data shape:',df.shape)"
   ]
  },
  {
   "cell_type": "code",
   "execution_count": 20,
   "metadata": {},
   "outputs": [
    {
     "data": {
      "text/plain": [
       "[(0, 'w/b'),\n",
       " (1, 'Water'),\n",
       " (2, 'Cement type'),\n",
       " (3, 'Cement'),\n",
       " (4, 'Slag'),\n",
       " (5, 'Fly ash'),\n",
       " (6, 'Silica fume'),\n",
       " (7, 'Lime filler'),\n",
       " (8, 'FA'),\n",
       " (9, 'CA'),\n",
       " (10, 'Plasticizer'),\n",
       " (11, 'Superplasticizer'),\n",
       " (12, 'Air entraining'),\n",
       " (13, 'Comp. str. test age'),\n",
       " (14, 'Compressive strength'),\n",
       " (15, 'Air content'),\n",
       " (16, 'Spreed'),\n",
       " (17, 'Slump'),\n",
       " (18, 'Fresh density'),\n",
       " (19, 'Dry  density'),\n",
       " (20, 'Migration test age'),\n",
       " (21, 'Migration resistance')]"
      ]
     },
     "execution_count": 20,
     "metadata": {},
     "output_type": "execute_result"
    }
   ],
   "source": [
    "list(enumerate(df.columns))"
   ]
  },
  {
   "cell_type": "markdown",
   "metadata": {},
   "source": [
    "1-hot encoding"
   ]
  },
  {
   "cell_type": "code",
   "execution_count": 21,
   "metadata": {},
   "outputs": [
    {
     "name": "stdout",
     "output_type": "stream",
     "text": [
      "(1069, 30)\n",
      "(1069,)\n"
     ]
    }
   ],
   "source": [
    "ct = ColumnTransformer(transformers=[('encoder', OneHotEncoder(), [2])], remainder='passthrough')\n",
    "X=ct.fit_transform(df)\n",
    "# remove dummy variable and output\n",
    "y=X[:,-1]\n",
    "X=X[:,1:-1]\n",
    "print(X.shape)\n",
    "print(y.shape)"
   ]
  },
  {
   "cell_type": "markdown",
   "metadata": {},
   "source": [
    "Decision Tree"
   ]
  },
  {
   "cell_type": "code",
   "execution_count": 22,
   "metadata": {},
   "outputs": [],
   "source": [
    "param_grid={\n",
    "    'criterion': ['gini', 'entropy', 'log_loss'],\n",
    "    'ccp_alpha': np.logspace(-1,-3,3),\n",
    "    'max_depth': [None, 5, 6, 7, 8, 9, 10, 20, 40, 100, 200, 500],\n",
    "    'min_samples_split': [2,5,10],\n",
    "    'min_samples_leaf': range(1,7),\n",
    "    'max_features': [None,1,2,3,4]\n",
    "}\n",
    "\n",
    "splits=list(StratifiedKFold(shuffle=True,random_state=0).split(X,y))\n",
    "train_index, test_index = splits[0]\n",
    "X_train, X_test = X[train_index], X[test_index]\n",
    "y_train, y_test = y[train_index], y[test_index]\n",
    "sc = StandardScaler()\n",
    "X_train = sc.fit_transform(X_train)\n",
    "X_test = sc.transform(X_test)\n",
    "\n",
    "def train_dtree(X_train,y_train):\n",
    "    clf = DecisionTreeClassifier(random_state=0)\n",
    "    grid=GridSearchCV(clf,param_grid,cv=5,n_jobs=3,scoring='accuracy')\n",
    "    grid.fit(X_train, y_train)\n",
    "    print(grid.best_params_)\n",
    "    print(grid.best_score_)\n",
    "    return grid\n",
    "\n",
    "def cv_scores(X,y,model):\n",
    "    acc_test=[]\n",
    "    acc_train=[]\n",
    "    for train_index, test_index in StratifiedKFold(shuffle=True,random_state=1).split(X,y):\n",
    "        X_train, X_test = X[train_index], X[test_index]\n",
    "        y_train, y_test = y[train_index], y[test_index]\n",
    "        sc = StandardScaler()\n",
    "        X_train = sc.fit_transform(X_train)\n",
    "        X_test = sc.transform(X_test)\n",
    "        model.fit(X_train,y_train)\n",
    "        acc_test.append(accuracy_score(y_test,model.predict(X_test)))\n",
    "        acc_train.append(accuracy_score(y_train,model.predict(X_train)))\n",
    "    print('Train acc:',np.mean(acc_train))\n",
    "    print('Test acc:',np.mean(acc_test))"
   ]
  },
  {
   "cell_type": "code",
   "execution_count": 23,
   "metadata": {},
   "outputs": [
    {
     "name": "stdout",
     "output_type": "stream",
     "text": [
      "{'ccp_alpha': 0.001, 'criterion': 'entropy', 'max_depth': None, 'max_features': None, 'min_samples_leaf': 1, 'min_samples_split': 5}\n",
      "0.7672514619883041\n"
     ]
    }
   ],
   "source": [
    "grid=train_dtree(X_train,y_train)"
   ]
  },
  {
   "cell_type": "code",
   "execution_count": 24,
   "metadata": {},
   "outputs": [
    {
     "data": {
      "text/plain": [
       "0.7990654205607477"
      ]
     },
     "execution_count": 24,
     "metadata": {},
     "output_type": "execute_result"
    }
   ],
   "source": [
    "best_model=DecisionTreeClassifier(random_state=0,\n",
    "                                  criterion=grid.best_params_['criterion'],\n",
    "                                  max_depth=grid.best_params_['max_depth'],\n",
    "                                  max_features=grid.best_params_['max_features'],\n",
    "                                  min_samples_leaf=grid.best_params_['min_samples_leaf'],\n",
    "                                  min_samples_split=grid.best_params_['min_samples_split'],\n",
    "                                  ccp_alpha=grid.best_params_['ccp_alpha'])\n",
    "best_model.fit(X_train,y_train)\n",
    "accuracy_score(y_test,best_model.predict(X_test))"
   ]
  },
  {
   "cell_type": "code",
   "execution_count": 25,
   "metadata": {},
   "outputs": [
    {
     "name": "stdout",
     "output_type": "stream",
     "text": [
      "Train acc: 0.9679608679018419\n",
      "Test acc: 0.8184809793339477\n"
     ]
    }
   ],
   "source": [
    "cv_scores(X,y,best_model)"
   ]
  },
  {
   "cell_type": "markdown",
   "metadata": {},
   "source": [
    "Removing cement type"
   ]
  },
  {
   "cell_type": "code",
   "execution_count": 27,
   "metadata": {},
   "outputs": [
    {
     "name": "stdout",
     "output_type": "stream",
     "text": [
      "(1069, 20)\n",
      "(1069,)\n"
     ]
    }
   ],
   "source": [
    "X=df.drop('Cement type',axis=1).iloc[:,:-1].values\n",
    "y=df.iloc[:,-1].values\n",
    "print(X.shape)\n",
    "print(y.shape)"
   ]
  },
  {
   "cell_type": "code",
   "execution_count": 28,
   "metadata": {},
   "outputs": [
    {
     "name": "stdout",
     "output_type": "stream",
     "text": [
      "{'ccp_alpha': 0.001, 'criterion': 'entropy', 'max_depth': None, 'max_features': None, 'min_samples_leaf': 1, 'min_samples_split': 2}\n",
      "0.7602339181286549\n"
     ]
    }
   ],
   "source": [
    "X_train, X_test = X[train_index], X[test_index]\n",
    "y_train, y_test = y[train_index], y[test_index]\n",
    "sc = StandardScaler()\n",
    "X_train = sc.fit_transform(X_train)\n",
    "X_test = sc.transform(X_test)\n",
    "grid=train_dtree(X_train,y_train)"
   ]
  },
  {
   "cell_type": "code",
   "execution_count": 29,
   "metadata": {},
   "outputs": [
    {
     "data": {
      "text/plain": [
       "0.8364485981308412"
      ]
     },
     "execution_count": 29,
     "metadata": {},
     "output_type": "execute_result"
    }
   ],
   "source": [
    "best_model=DecisionTreeClassifier(random_state=0,\n",
    "                                  criterion=grid.best_params_['criterion'],\n",
    "                                  max_depth=grid.best_params_['max_depth'],\n",
    "                                  max_features=grid.best_params_['max_features'],\n",
    "                                  min_samples_leaf=grid.best_params_['min_samples_leaf'],\n",
    "                                  min_samples_split=grid.best_params_['min_samples_split'],\n",
    "                                  ccp_alpha=grid.best_params_['ccp_alpha'])\n",
    "best_model.fit(X_train,y_train)\n",
    "accuracy_score(y_test,best_model.predict(X_test))"
   ]
  },
  {
   "cell_type": "code",
   "execution_count": 30,
   "metadata": {},
   "outputs": [
    {
     "name": "stdout",
     "output_type": "stream",
     "text": [
      "Train acc: 1.0\n",
      "Test acc: 0.8259795533324559\n"
     ]
    }
   ],
   "source": [
    "cv_scores(X,y,best_model)"
   ]
  }
 ],
 "metadata": {
  "kernelspec": {
   "display_name": ".venv",
   "language": "python",
   "name": "python3"
  },
  "language_info": {
   "codemirror_mode": {
    "name": "ipython",
    "version": 3
   },
   "file_extension": ".py",
   "mimetype": "text/x-python",
   "name": "python",
   "nbconvert_exporter": "python",
   "pygments_lexer": "ipython3",
   "version": "3.11.0"
  },
  "orig_nbformat": 4
 },
 "nbformat": 4,
 "nbformat_minor": 2
}
