{
 "cells": [
  {
   "cell_type": "code",
   "execution_count": null,
   "metadata": {},
   "outputs": [],
   "source": [
    "import numpy as np\n",
    "import pandas as pd\n",
    "import matplotlib.pyplot as plt\n",
    "from sklearn.metrics import accuracy_score\n",
    "from sklearn.compose import ColumnTransformer\n",
    "from sklearn.preprocessing import OneHotEncoder\n",
    "from sklearn.model_selection import StratifiedKFold,GridSearchCV\n",
    "from sklearn.preprocessing import StandardScaler\n",
    "from sklearn.tree import DecisionTreeClassifier"
   ]
  },
  {
   "cell_type": "code",
   "execution_count": null,
   "metadata": {},
   "outputs": [],
   "source": [
    "df=pd.read_csv('processed.csv')\n",
    "print('Data shape:',df.shape)"
   ]
  },
  {
   "cell_type": "code",
   "execution_count": null,
   "metadata": {},
   "outputs": [],
   "source": [
    "list(enumerate(df.columns))"
   ]
  },
  {
   "cell_type": "markdown",
   "metadata": {},
   "source": [
    "1-hot encoding"
   ]
  },
  {
   "cell_type": "code",
   "execution_count": null,
   "metadata": {},
   "outputs": [],
   "source": [
    "ct = ColumnTransformer(transformers=[('encoder', OneHotEncoder(), [2])], remainder='passthrough')\n",
    "X=ct.fit_transform(df)\n",
    "# remove dummy variable and output\n",
    "y=X[:,-1]\n",
    "X=X[:,1:-1]\n",
    "print(X.shape)\n",
    "print(y.shape)"
   ]
  },
  {
   "cell_type": "markdown",
   "metadata": {},
   "source": [
    "Decision Tree"
   ]
  },
  {
   "cell_type": "code",
   "execution_count": null,
   "metadata": {},
   "outputs": [],
   "source": [
    "acc_train=[]\n",
    "acc_test=[]\n",
    "param_grid={\n",
    "    'criterion': ['gini', 'entropy', 'log_loss'],\n",
    "    'ccp_alpha': [0.1, 0.01, 0.001],\n",
    "    'max_depth': [None, 5, 6, 7, 8, 9, 10, 20, 40, 100, 200, 500],\n",
    "    'min_samples_split': [2,5,10],\n",
    "    'min_samples_leaf': range(1,7)\n",
    "}\n",
    "for train_index, test_index in StratifiedKFold().split(X,y):\n",
    "    X_train, X_test = X[train_index], X[test_index]\n",
    "    y_train, y_test = y[train_index], y[test_index]\n",
    "    sc = StandardScaler()\n",
    "    X_train = sc.fit_transform(X_train)\n",
    "    X_test = sc.transform(X_test)\n",
    "    clf = DecisionTreeClassifier(random_state=0)\n",
    "    grid=GridSearchCV(clf,param_grid,cv=5,n_jobs=-1)\n",
    "    grid.fit(X_train, y_train)\n",
    "    acc_train.append(accuracy_score(y_train,grid.predict(X_train)))\n",
    "    acc_test.append(accuracy_score(y_test,grid.predict(X_test)))\n",
    "print('Test acc:',np.mean(acc_test))\n",
    "print('Train acc:',np.mean(acc_train))\n",
    "plt.plot(range(1,6),acc_train)\n",
    "plt.plot(range(1,6),acc_test)\n",
    "plt.legend(['train','test'])"
   ]
  }
 ],
 "metadata": {
  "kernelspec": {
   "display_name": ".venv",
   "language": "python",
   "name": "python3"
  },
  "language_info": {
   "codemirror_mode": {
    "name": "ipython",
    "version": 3
   },
   "file_extension": ".py",
   "mimetype": "text/x-python",
   "name": "python",
   "nbconvert_exporter": "python",
   "pygments_lexer": "ipython3",
   "version": "3.11.0"
  },
  "orig_nbformat": 4
 },
 "nbformat": 4,
 "nbformat_minor": 2
}
