{
 "cells": [
  {
   "cell_type": "code",
   "execution_count": 1,
   "metadata": {},
   "outputs": [],
   "source": [
    "import numpy as np\n",
    "import pandas as pd\n",
    "import matplotlib.pyplot as plt\n",
    "from sklearn.metrics import accuracy_score\n",
    "from sklearn.compose import ColumnTransformer\n",
    "from sklearn.preprocessing import OneHotEncoder\n",
    "from sklearn.model_selection import GridSearchCV,KFold\n",
    "from sklearn.preprocessing import StandardScaler\n",
    "from xgboost import XGBClassifier"
   ]
  },
  {
   "cell_type": "code",
   "execution_count": 2,
   "metadata": {},
   "outputs": [
    {
     "name": "stdout",
     "output_type": "stream",
     "text": [
      "Data shape: (1069, 22)\n"
     ]
    }
   ],
   "source": [
    "df=pd.read_csv('processed.csv')\n",
    "print('Data shape:',df.shape)"
   ]
  },
  {
   "cell_type": "code",
   "execution_count": 3,
   "metadata": {},
   "outputs": [
    {
     "data": {
      "text/plain": [
       "[(0, 'w/b'),\n",
       " (1, 'Water'),\n",
       " (2, 'Cement type'),\n",
       " (3, 'Cement'),\n",
       " (4, 'Slag'),\n",
       " (5, 'Fly ash'),\n",
       " (6, 'Silica fume'),\n",
       " (7, 'Lime filler'),\n",
       " (8, 'FA'),\n",
       " (9, 'CA'),\n",
       " (10, 'Plasticizer'),\n",
       " (11, 'Superplasticizer'),\n",
       " (12, 'Air entraining'),\n",
       " (13, 'Comp. str. test age'),\n",
       " (14, 'Compressive strength'),\n",
       " (15, 'Air content'),\n",
       " (16, 'Spreed'),\n",
       " (17, 'Slump'),\n",
       " (18, 'Fresh density'),\n",
       " (19, 'Dry  density'),\n",
       " (20, 'Migration test age'),\n",
       " (21, 'Migration resistance')]"
      ]
     },
     "execution_count": 3,
     "metadata": {},
     "output_type": "execute_result"
    }
   ],
   "source": [
    "list(enumerate(df.columns))"
   ]
  },
  {
   "cell_type": "markdown",
   "metadata": {},
   "source": [
    "1-hot encoding"
   ]
  },
  {
   "cell_type": "code",
   "execution_count": 4,
   "metadata": {},
   "outputs": [
    {
     "name": "stdout",
     "output_type": "stream",
     "text": [
      "(1069, 30)\n",
      "(1069,)\n"
     ]
    }
   ],
   "source": [
    "ct = ColumnTransformer(transformers=[('encoder', OneHotEncoder(), [2])], remainder='passthrough')\n",
    "X=ct.fit_transform(df)\n",
    "# remove dummy variable and output\n",
    "y=X[:,-1]\n",
    "X=X[:,1:-1]\n",
    "print(X.shape)\n",
    "print(y.shape)"
   ]
  },
  {
   "cell_type": "markdown",
   "metadata": {},
   "source": [
    "XGB"
   ]
  },
  {
   "cell_type": "code",
   "execution_count": 15,
   "metadata": {},
   "outputs": [
    {
     "name": "stdout",
     "output_type": "stream",
     "text": [
      "{'learning_rate': None, 'max_depth': 3, 'max_leaves': 5, 'n_estimators': 200}\n",
      "{'learning_rate': None, 'max_depth': None, 'max_leaves': None, 'n_estimators': 100}\n",
      "{'learning_rate': None, 'max_depth': 3, 'max_leaves': 5, 'n_estimators': 300}\n",
      "{'learning_rate': None, 'max_depth': None, 'max_leaves': 4, 'n_estimators': 300}\n",
      "{'learning_rate': None, 'max_depth': None, 'max_leaves': None, 'n_estimators': 100}\n"
     ]
    },
    {
     "data": {
      "text/plain": [
       "<matplotlib.legend.Legend at 0x2d87ea3e490>"
      ]
     },
     "execution_count": 15,
     "metadata": {},
     "output_type": "execute_result"
    },
    {
     "data": {
      "image/png": "[encoded data removed]",
      "text/plain": [
       "<Figure size 640x480 with 1 Axes>"
      ]
     },
     "metadata": {},
     "output_type": "display_data"
    }
   ],
   "source": [
    "acc_train=[]\n",
    "acc_test=[]\n",
    "cv_scores=[]\n",
    "param_grid={\n",
    "    'n_estimators': [10,50,100,200,300],\n",
    "    'max_depth': [None,1,2,3],\n",
    "    'max_leaves': [None,1,2,3,4,5],\n",
    "    'learning_rate': [None,.05,.1],\n",
    "}\n",
    "splits=list(KFold(shuffle=True,random_state=0).split(X,y))\n",
    "for train_index, test_index in splits:\n",
    "    X_train, X_test = X[train_index], X[test_index]\n",
    "    y_train, y_test = y[train_index], y[test_index]\n",
    "    sc = StandardScaler()\n",
    "    X_train = sc.fit_transform(X_train)\n",
    "    X_test = sc.transform(X_test)\n",
    "    clf = XGBClassifier(random_state=0,n_jobs=-1)\n",
    "    grid=GridSearchCV(clf,param_grid,cv=5,n_jobs=-1,scoring='accuracy')\n",
    "    grid.fit(X_train, y_train)\n",
    "    print(grid.best_params_)\n",
    "    cv_scores.append(grid.best_score_)\n",
    "    acc_train.append(accuracy_score(y_train,grid.predict(X_train)))\n",
    "    acc_test.append(accuracy_score(y_test,grid.predict(X_test)))\n",
    "plt.plot(range(1,6),acc_train)\n",
    "plt.plot(range(1,6),acc_test)\n",
    "plt.plot(range(1,6),cv_scores)\n",
    "plt.legend(['train','test','cv_scores'])"
   ]
  }
 ],
 "metadata": {
  "kernelspec": {
   "display_name": ".venv",
   "language": "python",
   "name": "python3"
  },
  "language_info": {
   "codemirror_mode": {
    "name": "ipython",
    "version": 3
   },
   "file_extension": ".py",
   "mimetype": "text/x-python",
   "name": "python",
   "nbconvert_exporter": "python",
   "pygments_lexer": "ipython3",
   "version": "3.11.0"
  },
  "orig_nbformat": 4
 },
 "nbformat": 4,
 "nbformat_minor": 2
}
