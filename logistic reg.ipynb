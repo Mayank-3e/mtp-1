{
 "cells": [
  {
   "cell_type": "code",
   "execution_count": null,
   "metadata": {},
   "outputs": [],
   "source": [
    "import numpy as np\n",
    "import pandas as pd\n",
    "import matplotlib.pyplot as plt\n",
    "from sklearn.metrics import accuracy_score\n",
    "from sklearn.compose import ColumnTransformer\n",
    "from sklearn.preprocessing import OneHotEncoder\n",
    "from sklearn.model_selection import StratifiedKFold,GridSearchCV\n",
    "from sklearn.preprocessing import StandardScaler,PolynomialFeatures\n",
    "from sklearn.linear_model import LogisticRegression"
   ]
  },
  {
   "cell_type": "code",
   "execution_count": null,
   "metadata": {},
   "outputs": [],
   "source": [
    "df=pd.read_csv('processed.csv')\n",
    "print('Data shape:',df.shape)"
   ]
  },
  {
   "cell_type": "code",
   "execution_count": null,
   "metadata": {},
   "outputs": [],
   "source": [
    "list(enumerate(df.columns))"
   ]
  },
  {
   "cell_type": "markdown",
   "metadata": {},
   "source": [
    "1-hot encoding"
   ]
  },
  {
   "cell_type": "code",
   "execution_count": null,
   "metadata": {},
   "outputs": [],
   "source": [
    "ct = ColumnTransformer(transformers=[('encoder', OneHotEncoder(), [2])], remainder='passthrough')\n",
    "X=ct.fit_transform(df)\n",
    "# remove dummy variable and output\n",
    "y=X[:,-1]\n",
    "X=X[:,1:-2]\n",
    "print(X.shape)\n",
    "print(y.shape)"
   ]
  },
  {
   "cell_type": "markdown",
   "metadata": {},
   "source": [
    "Logistic Regression"
   ]
  },
  {
   "cell_type": "code",
   "execution_count": null,
   "metadata": {},
   "outputs": [],
   "source": [
    "acc_train=[]\n",
    "acc_test=[]\n",
    "param_grid={\n",
    "    'penalty': ['l1','l2'],\n",
    "    'C': [.1,1,10,100],\n",
    "    'solver': ['saga','newton-cg']\n",
    "}\n",
    "for train_index, test_index in StratifiedKFold().split(X,y):\n",
    "    X_train, X_test = X[train_index], X[test_index]\n",
    "    y_train, y_test = y[train_index], y[test_index]\n",
    "    sc = StandardScaler()\n",
    "    X_train = sc.fit_transform(X_train)\n",
    "    X_test = sc.transform(X_test)\n",
    "    clf = LogisticRegression(multi_class='multinomial',max_iter=int(1e4))\n",
    "    grid=GridSearchCV(clf,param_grid,cv=5,n_jobs=-1)\n",
    "    grid.fit(X_train, y_train)\n",
    "    acc_train.append(accuracy_score(y_train,grid.predict(X_train)))\n",
    "    acc_test.append(accuracy_score(y_test,grid.predict(X_test)))\n",
    "print('Test acc:',np.mean(acc_test))\n",
    "print('Train acc:',np.mean(acc_train))\n",
    "plt.plot(range(1,6),acc_train)\n",
    "plt.plot(range(1,6),acc_test)\n",
    "plt.legend(['train','test'])"
   ]
  },
  {
   "cell_type": "markdown",
   "metadata": {},
   "source": [
    "Polynomial transform"
   ]
  },
  {
   "cell_type": "code",
   "execution_count": null,
   "metadata": {},
   "outputs": [],
   "source": [
    "X=df.drop('Cement type',axis=1).iloc[:,:-1]\n",
    "X=PolynomialFeatures(interaction_only=True,include_bias=False).fit_transform(X)\n",
    "X=np.insert(X,0,df['Cement type'],axis=1)\n",
    "X = ColumnTransformer(transformers=[('encoder',OneHotEncoder(),[0])], remainder='passthrough').fit_transform(X)\n",
    "# remove dummy variable\n",
    "X=X[:,1:]\n",
    "y=df.iloc[:,-1].values\n",
    "X.shape, y.shape"
   ]
  },
  {
   "cell_type": "markdown",
   "metadata": {},
   "source": [
    "Logistic Regression with grid search"
   ]
  },
  {
   "cell_type": "code",
   "execution_count": null,
   "metadata": {},
   "outputs": [],
   "source": [
    "acc_train=[]\n",
    "acc_test=[]\n",
    "param_grid={\n",
    "    'penalty': ['l1','l2'],\n",
    "    'C': [.1,1,10,100]\n",
    "}\n",
    "for train_index, test_index in StratifiedKFold().split(X,y):\n",
    "    X_train, X_test = X[train_index], X[test_index]\n",
    "    y_train, y_test = y[train_index], y[test_index]\n",
    "    sc = StandardScaler()\n",
    "    X_train = sc.fit_transform(X_train)\n",
    "    X_test = sc.transform(X_test)\n",
    "    clf = LogisticRegression(multi_class='multinomial',max_iter=int(1e4),solver='saga')\n",
    "    grid=GridSearchCV(clf,param_grid,cv=5,n_jobs=-1)\n",
    "    grid.fit(X_train, y_train)\n",
    "    acc_train.append(accuracy_score(y_train,grid.predict(X_train)))\n",
    "    y_pred=grid.predict(X_test)\n",
    "    acc_test.append(accuracy_score(y_test,y_pred))\n",
    "print('Test acc:',np.mean(acc_test))\n",
    "print('Train acc:',np.mean(acc_train))\n",
    "plt.plot(range(1,6),acc_train)\n",
    "plt.plot(range(1,6),acc_test)\n",
    "plt.legend(['train','test'])"
   ]
  }
 ],
 "metadata": {
  "kernelspec": {
   "display_name": ".venv",
   "language": "python",
   "name": "python3"
  },
  "language_info": {
   "codemirror_mode": {
    "name": "ipython",
    "version": 3
   },
   "file_extension": ".py",
   "mimetype": "text/x-python",
   "name": "python",
   "nbconvert_exporter": "python",
   "pygments_lexer": "ipython3",
   "version": "3.11.0"
  },
  "orig_nbformat": 4
 },
 "nbformat": 4,
 "nbformat_minor": 2
}
